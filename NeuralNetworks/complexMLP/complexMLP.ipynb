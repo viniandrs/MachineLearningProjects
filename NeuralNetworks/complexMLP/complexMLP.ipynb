{
  "cells": [
    {
      "cell_type": "markdown",
      "metadata": {
        "id": "eWwJhIpTBy__"
      },
      "source": [
        "# Importing libraries"
      ]
    },
    {
      "cell_type": "code",
      "execution_count": null,
      "metadata": {
        "id": "dFqxhNIsB0T1",
        "colab": {
          "base_uri": "https://localhost:8080/"
        },
        "outputId": "0f434a8f-e24d-4b39-9239-6c8867da4779"
      },
      "outputs": [
        {
          "output_type": "stream",
          "name": "stdout",
          "text": [
            "\u001b[?25l\r\u001b[K     |██▍                             | 10 kB 35.5 MB/s eta 0:00:01\r\u001b[K     |████▉                           | 20 kB 8.9 MB/s eta 0:00:01\r\u001b[K     |███████▎                        | 30 kB 12.6 MB/s eta 0:00:01\r\u001b[K     |█████████▋                      | 40 kB 10.1 MB/s eta 0:00:01\r\u001b[K     |████████████                    | 51 kB 4.7 MB/s eta 0:00:01\r\u001b[K     |██████████████▌                 | 61 kB 5.6 MB/s eta 0:00:01\r\u001b[K     |█████████████████               | 71 kB 5.7 MB/s eta 0:00:01\r\u001b[K     |███████████████████▎            | 81 kB 5.7 MB/s eta 0:00:01\r\u001b[K     |█████████████████████▊          | 92 kB 6.3 MB/s eta 0:00:01\r\u001b[K     |████████████████████████▏       | 102 kB 6.8 MB/s eta 0:00:01\r\u001b[K     |██████████████████████████▋     | 112 kB 6.8 MB/s eta 0:00:01\r\u001b[K     |█████████████████████████████   | 122 kB 6.8 MB/s eta 0:00:01\r\u001b[K     |███████████████████████████████▍| 133 kB 6.8 MB/s eta 0:00:01\r\u001b[K     |████████████████████████████████| 135 kB 6.8 MB/s \n",
            "\u001b[K     |████████████████████████████████| 87 kB 6.6 MB/s \n",
            "\u001b[K     |████████████████████████████████| 1.6 MB 46.4 MB/s \n",
            "\u001b[?25h  Building wheel for fire (setup.py) ... \u001b[?25l\u001b[?25hdone\n"
          ]
        }
      ],
      "source": [
        "! pip install medmnist keras_tuner -q"
      ]
    },
    {
      "cell_type": "code",
      "execution_count": null,
      "metadata": {
        "colab": {
          "base_uri": "https://localhost:8080/"
        },
        "id": "eRLcs7eHB3Hd",
        "outputId": "fb22ad51-32c8-424f-c287-65e96060261f"
      },
      "outputs": [
        {
          "output_type": "stream",
          "name": "stdout",
          "text": [
            "Mounted at /content/gdrive\n"
          ]
        }
      ],
      "source": [
        "from sklearn.model_selection import KFold\n",
        "\n",
        "import tensorflow as tf\n",
        "import keras_tuner as kt\n",
        "\n",
        "import medmnist\n",
        "from medmnist import INFO\n",
        "import torchvision.transforms as transforms\n",
        "\n",
        "import numpy as np\n",
        "import pandas as pd\n",
        "import matplotlib.pyplot as plt\n",
        "\n",
        "from google.colab import drive\n",
        "drive.mount('/content/gdrive')"
      ]
    },
    {
      "cell_type": "markdown",
      "metadata": {
        "id": "-I1mXcSXB5KL"
      },
      "source": [
        "# Defining constants"
      ]
    },
    {
      "cell_type": "code",
      "execution_count": null,
      "metadata": {
        "id": "BrqAmVEfB9tH"
      },
      "outputs": [],
      "source": [
        "NUMFEATURES = 28 * 28 * 3 # = 2352\n",
        "NUMCLASSES = 8"
      ]
    },
    {
      "cell_type": "markdown",
      "metadata": {
        "id": "PGJWVhj3CBxs"
      },
      "source": [
        "# Importing BloodMNIST"
      ]
    },
    {
      "cell_type": "code",
      "execution_count": null,
      "metadata": {
        "colab": {
          "base_uri": "https://localhost:8080/",
          "height": 86,
          "referenced_widgets": [
            "ce1ced0be62045a18a5c8008dab4c271",
            "59aa2e6e65854e5da2bf3bc08be02874",
            "2d9ceb25b8f34d27b957857392a9ffc8",
            "80507ba7f2534e278eac35483ef81325",
            "4e63133bb231492ba42ee453e6fd7120",
            "11471ab1a6624d8fa2cc3c79a6b06122",
            "57473098050b4595b9f453b41f923df3",
            "f6b4940f439741bcb7f07a52cf5fa6fa",
            "9586e1dafe614ceaa2ddcabc5e58d245",
            "0c02e60677fc4c92812ebe964ea7ab3b",
            "c6daa6c329cd48b49d647e5763c7be3a"
          ]
        },
        "id": "048H-6fVCHT3",
        "outputId": "9cfb7c28-92f9-4fe4-e328-ff2ab3226825"
      },
      "outputs": [
        {
          "output_type": "stream",
          "name": "stdout",
          "text": [
            "Downloading https://zenodo.org/record/6496656/files/bloodmnist.npz?download=1 to /root/.medmnist/bloodmnist.npz\n"
          ]
        },
        {
          "output_type": "display_data",
          "data": {
            "text/plain": [
              "  0%|          | 0/35461855 [00:00<?, ?it/s]"
            ],
            "application/vnd.jupyter.widget-view+json": {
              "version_major": 2,
              "version_minor": 0,
              "model_id": "ce1ced0be62045a18a5c8008dab4c271"
            }
          },
          "metadata": {}
        },
        {
          "output_type": "stream",
          "name": "stdout",
          "text": [
            "Using downloaded and verified file: /root/.medmnist/bloodmnist.npz\n"
          ]
        }
      ],
      "source": [
        "info = INFO['bloodmnist']\n",
        "n_channels = info['n_channels']\n",
        "n_classes = len(info['label'])\n",
        "\n",
        "DataClass = getattr(medmnist, info['python_class'])\n",
        "\n",
        "data_transform = transforms.Compose([\n",
        "    transforms.ToTensor()\n",
        "])\n",
        "\n",
        "# raw data\n",
        "train_dataset = DataClass(\n",
        "    split='train', transform=data_transform, download=True)\n",
        "val_dataset = DataClass(\n",
        "    split='val', transform=data_transform, download=True)"
      ]
    },
    {
      "cell_type": "markdown",
      "metadata": {
        "id": "TxlJc5QiCMo1"
      },
      "source": [
        "# Preprocessing data"
      ]
    },
    {
      "cell_type": "code",
      "execution_count": null,
      "metadata": {
        "colab": {
          "base_uri": "https://localhost:8080/"
        },
        "id": "3FsafJUTCPQ6",
        "outputId": "fbabe4a3-6043-46ff-8088-6b52403e13cf"
      },
      "outputs": [
        {
          "output_type": "stream",
          "name": "stdout",
          "text": [
            "(11959, 2352)\n",
            "(11959, 1)\n"
          ]
        }
      ],
      "source": [
        "# converting images into arrays and normalizing\n",
        "x_train = np.reshape(train_dataset.imgs, (-1, NUMFEATURES)) / 255\n",
        "y_train = train_dataset.labels\n",
        "\n",
        "x_val = np.reshape(val_dataset.imgs, (-1, NUMFEATURES)) / 255\n",
        "y_val = val_dataset.labels\n",
        "\n",
        "print(x_train.shape)\n",
        "print(y_train.shape)"
      ]
    },
    {
      "cell_type": "markdown",
      "metadata": {
        "id": "5pq8VhkQCTNH"
      },
      "source": [
        "# Building the network"
      ]
    },
    {
      "cell_type": "code",
      "execution_count": null,
      "metadata": {
        "id": "oAAzkue5CWjT"
      },
      "outputs": [],
      "source": [
        "def build_model(layer1_size, layer2_size, lamb, dropout_rate):\n",
        "\n",
        "    # leaky relu\n",
        "    leakyrelu = tf.keras.layers.LeakyReLU()\n",
        "\n",
        "    # l1 regularization\n",
        "    l1reg =tf.keras.regularizers.L1(l1=lamb)\n",
        "\n",
        "    # creating the model\n",
        "    model = tf.keras.models.Sequential()\n",
        "\n",
        "    # first layer\n",
        "    model.add(tf.keras.layers.Dense(layer1_size, \n",
        "                                    activation=leakyrelu,\n",
        "                                    input_shape=(NUMFEATURES,)))\n",
        "    model.add(tf.keras.layers.BatchNormalization())\n",
        "    model.add(tf.keras.layers.Dropout(dropout_rate))\n",
        "\n",
        "    # second layer\n",
        "    model.add(tf.keras.layers.Dense(layer2_size, \n",
        "                                    activation=leakyrelu,\n",
        "    model.add(tf.keras.layers.BatchNormalization())\n",
        "    model.add(tf.keras.layers.Dropout(dropout_rate))\n",
        "    \n",
        "    # output layer\n",
        "    model.add(tf.keras.layers.Dense(NUMCLASSES, \n",
        "                                    activation='softmax'))\n",
        "\n",
        "    model.compile(optimizer='adam',\n",
        "                  loss=\"sparse_categorical_crossentropy\",\n",
        "                  metrics=['accuracy'])\n",
        "    \n",
        "    return model"
      ]
    },
    {
      "cell_type": "markdown",
      "metadata": {
        "id": "gPO8GngICZoV"
      },
      "source": [
        "# Hyperparameter tuning"
      ]
    },
    {
      "cell_type": "code",
      "execution_count": null,
      "metadata": {
        "id": "TUu8tP-jCc37"
      },
      "outputs": [],
      "source": [
        "def hyperaprameter_tuning(hp):\n",
        "\n",
        "  # defining hyperparameters to tune\n",
        "  layer1_size = hp.Int(\"units1\", min_value=256, max_value=2048, sampling='log')\n",
        "  layer2_size = hp.Int(\"units2\", min_value=256, max_value=2048, sampling='log')\n",
        "  #lamb = hp.Float(\"reg_factor\", min_value=1e-8, max_value=1e-1, sampling='log')\n",
        "  dropout_rate = hp.Float(\"dropout_rate\", min_value=0.1, max_value=0.8, sampling='linear')\n",
        "  \n",
        "  model = build_model(layer1_size, layer2_size, 0, dropout_rate)\n",
        "\n",
        "  return model\n",
        "\n",
        "tuner = kt.BayesianOptimization(hyperaprameter_tuning,\n",
        "                     objective='val_accuracy',\n",
        "                     max_trials=30,\n",
        "                     overwrite=True)"
      ]
    },
    {
      "cell_type": "markdown",
      "metadata": {
        "id": "-zWrm_f5Cfbc"
      },
      "source": [
        "# Cross-validating"
      ]
    },
    {
      "cell_type": "code",
      "execution_count": null,
      "metadata": {
        "colab": {
          "base_uri": "https://localhost:8080/"
        },
        "id": "bvSBinX-ChfA",
        "outputId": "3058dea2-9857-4b26-cf87-38ab8b1fa466"
      },
      "outputs": [
        {
          "output_type": "stream",
          "name": "stdout",
          "text": [
            "Trial 30 Complete [00h 00m 15s]\n",
            "val_accuracy: 0.6752336621284485\n",
            "\n",
            "Best val_accuracy So Far: 0.802570104598999\n",
            "Total elapsed time: 00h 09m 57s\n"
          ]
        }
      ],
      "source": [
        "# early stopping to improve training efficiency\n",
        "stop_early = tf.keras.callbacks.EarlyStopping(monitor='val_accuracy', patience=3)\n",
        "\n",
        "tuner.search(x_train, y_train, batch_size=32, epochs=50, validation_data=(x_val, y_val), callbacks=[stop_early], verbose=1)"
      ]
    },
    {
      "cell_type": "markdown",
      "metadata": {
        "id": "aPjpkpHQCn0e"
      },
      "source": [
        "# Analysing the results"
      ]
    },
    {
      "cell_type": "code",
      "source": [
        "tuner.results_summary()"
      ],
      "metadata": {
        "colab": {
          "base_uri": "https://localhost:8080/"
        },
        "id": "r_sMM0Hz-1Fc",
        "outputId": "47cd555a-6de0-47df-c188-b8dd1800b64d"
      },
      "execution_count": null,
      "outputs": [
        {
          "output_type": "stream",
          "name": "stdout",
          "text": [
            "Results summary\n",
            "Results in ./untitled_project\n",
            "Showing 10 best trials\n",
            "<keras_tuner.engine.objective.Objective object at 0x7f95304b4c90>\n",
            "Trial summary\n",
            "Hyperparameters:\n",
            "units1: 1504\n",
            "units2: 1373\n",
            "dropout_rate: 0.7381460322970614\n",
            "Score: 0.802570104598999\n",
            "Trial summary\n",
            "Hyperparameters:\n",
            "units1: 2048\n",
            "units2: 1452\n",
            "dropout_rate: 0.6821031856414184\n",
            "Score: 0.7891355156898499\n",
            "Trial summary\n",
            "Hyperparameters:\n",
            "units1: 1607\n",
            "units2: 2048\n",
            "dropout_rate: 0.6153284437886195\n",
            "Score: 0.7844626307487488\n",
            "Trial summary\n",
            "Hyperparameters:\n",
            "units1: 397\n",
            "units2: 571\n",
            "dropout_rate: 0.6725179937547142\n",
            "Score: 0.7832943797111511\n",
            "Trial summary\n",
            "Hyperparameters:\n",
            "units1: 1468\n",
            "units2: 1176\n",
            "dropout_rate: 0.6365708304165565\n",
            "Score: 0.7803738117218018\n",
            "Trial summary\n",
            "Hyperparameters:\n",
            "units1: 2048\n",
            "units2: 796\n",
            "dropout_rate: 0.6656897909681067\n",
            "Score: 0.7792056202888489\n",
            "Trial summary\n",
            "Hyperparameters:\n",
            "units1: 1668\n",
            "units2: 1525\n",
            "dropout_rate: 0.6803706339358425\n",
            "Score: 0.7751168012619019\n",
            "Trial summary\n",
            "Hyperparameters:\n",
            "units1: 1583\n",
            "units2: 999\n",
            "dropout_rate: 0.8\n",
            "Score: 0.7716121673583984\n",
            "Trial summary\n",
            "Hyperparameters:\n",
            "units1: 256\n",
            "units2: 745\n",
            "dropout_rate: 0.8\n",
            "Score: 0.7675233483314514\n",
            "Trial summary\n",
            "Hyperparameters:\n",
            "units1: 440\n",
            "units2: 455\n",
            "dropout_rate: 0.8\n",
            "Score: 0.764602780342102\n"
          ]
        }
      ]
    },
    {
      "cell_type": "markdown",
      "metadata": {
        "id": "8WJBRaiGJ_So"
      },
      "source": [
        "# Testing the model"
      ]
    },
    {
      "cell_type": "code",
      "source": [
        "# building the best model\n",
        "layer1_size   = 1504\n",
        "layer2_size   = 1373\n",
        "lamb          = 0\n",
        "dropout_rate  = 0.7381460322970614\n",
        "\n",
        "best_model = build_model(layer1_size, layer2_size, lamb, dropout_rate)\n",
        "\n",
        "# Fit with the entire dataset.\n",
        "x_all = np.concatenate((x_train, x_val))\n",
        "y_all = np.concatenate((y_train, y_val))\n",
        "\n",
        "stop_early = stop_early = tf.keras.callbacks.EarlyStopping(monitor='accuracy', patience=3)\n",
        "best_model.fit(x_all, y_all, batch_size=32, epochs=50)"
      ],
      "metadata": {
        "colab": {
          "base_uri": "https://localhost:8080/"
        },
        "id": "3fC3aHur_JSh",
        "outputId": "115a61b9-1f04-4469-e7dd-edae571ed12e"
      },
      "execution_count": null,
      "outputs": [
        {
          "output_type": "stream",
          "name": "stdout",
          "text": [
            "Epoch 1/50\n",
            "428/428 [==============================] - 3s 5ms/step - loss: 1.4757 - accuracy: 0.6098\n",
            "Epoch 2/50\n",
            "428/428 [==============================] - 2s 5ms/step - loss: 0.9750 - accuracy: 0.6982\n",
            "Epoch 3/50\n",
            "428/428 [==============================] - 2s 5ms/step - loss: 0.8763 - accuracy: 0.7108\n",
            "Epoch 4/50\n",
            "428/428 [==============================] - 2s 5ms/step - loss: 0.7919 - accuracy: 0.7319\n",
            "Epoch 5/50\n",
            "428/428 [==============================] - 3s 6ms/step - loss: 0.7535 - accuracy: 0.7431\n",
            "Epoch 6/50\n",
            "428/428 [==============================] - 2s 6ms/step - loss: 0.7184 - accuracy: 0.7527\n",
            "Epoch 7/50\n",
            "428/428 [==============================] - 2s 5ms/step - loss: 0.7089 - accuracy: 0.7555\n",
            "Epoch 8/50\n",
            "428/428 [==============================] - 2s 5ms/step - loss: 0.6902 - accuracy: 0.7602\n",
            "Epoch 9/50\n",
            "428/428 [==============================] - 2s 5ms/step - loss: 0.6681 - accuracy: 0.7720\n",
            "Epoch 10/50\n",
            "428/428 [==============================] - 2s 5ms/step - loss: 0.6656 - accuracy: 0.7686\n",
            "Epoch 11/50\n",
            "428/428 [==============================] - 2s 6ms/step - loss: 0.6547 - accuracy: 0.7742\n",
            "Epoch 12/50\n",
            "428/428 [==============================] - 2s 5ms/step - loss: 0.6338 - accuracy: 0.7801\n",
            "Epoch 13/50\n",
            "428/428 [==============================] - 2s 5ms/step - loss: 0.6194 - accuracy: 0.7850\n",
            "Epoch 14/50\n",
            "428/428 [==============================] - 2s 5ms/step - loss: 0.5958 - accuracy: 0.7879\n",
            "Epoch 15/50\n",
            "428/428 [==============================] - 2s 5ms/step - loss: 0.5916 - accuracy: 0.7904\n",
            "Epoch 16/50\n",
            "428/428 [==============================] - 2s 5ms/step - loss: 0.5848 - accuracy: 0.7958\n",
            "Epoch 17/50\n",
            "428/428 [==============================] - 2s 5ms/step - loss: 0.5848 - accuracy: 0.7953\n",
            "Epoch 18/50\n",
            "428/428 [==============================] - 2s 5ms/step - loss: 0.5729 - accuracy: 0.7947\n",
            "Epoch 19/50\n",
            "428/428 [==============================] - 2s 5ms/step - loss: 0.5618 - accuracy: 0.7975\n",
            "Epoch 20/50\n",
            "428/428 [==============================] - 2s 5ms/step - loss: 0.5489 - accuracy: 0.8077\n",
            "Epoch 21/50\n",
            "428/428 [==============================] - 2s 5ms/step - loss: 0.5435 - accuracy: 0.8043\n",
            "Epoch 22/50\n",
            "428/428 [==============================] - 3s 7ms/step - loss: 0.5417 - accuracy: 0.8081\n",
            "Epoch 23/50\n",
            "428/428 [==============================] - 2s 5ms/step - loss: 0.5400 - accuracy: 0.8093\n",
            "Epoch 24/50\n",
            "428/428 [==============================] - 2s 5ms/step - loss: 0.5166 - accuracy: 0.8182\n",
            "Epoch 25/50\n",
            "428/428 [==============================] - 2s 5ms/step - loss: 0.5219 - accuracy: 0.8114\n",
            "Epoch 26/50\n",
            "428/428 [==============================] - 2s 5ms/step - loss: 0.5256 - accuracy: 0.8115\n",
            "Epoch 27/50\n",
            "428/428 [==============================] - 2s 5ms/step - loss: 0.5182 - accuracy: 0.8137\n",
            "Epoch 28/50\n",
            "428/428 [==============================] - 2s 5ms/step - loss: 0.5103 - accuracy: 0.8162\n",
            "Epoch 29/50\n",
            "428/428 [==============================] - 2s 5ms/step - loss: 0.5075 - accuracy: 0.8163\n",
            "Epoch 30/50\n",
            "428/428 [==============================] - 2s 5ms/step - loss: 0.4942 - accuracy: 0.8195\n",
            "Epoch 31/50\n",
            "428/428 [==============================] - 3s 6ms/step - loss: 0.4949 - accuracy: 0.8238\n",
            "Epoch 32/50\n",
            "428/428 [==============================] - 2s 5ms/step - loss: 0.4983 - accuracy: 0.8238\n",
            "Epoch 33/50\n",
            "428/428 [==============================] - 2s 5ms/step - loss: 0.4901 - accuracy: 0.8245\n",
            "Epoch 34/50\n",
            "428/428 [==============================] - 2s 5ms/step - loss: 0.4887 - accuracy: 0.8283\n",
            "Epoch 35/50\n",
            "428/428 [==============================] - 2s 5ms/step - loss: 0.4796 - accuracy: 0.8291\n",
            "Epoch 36/50\n",
            "428/428 [==============================] - 2s 5ms/step - loss: 0.4656 - accuracy: 0.8321\n",
            "Epoch 37/50\n",
            "428/428 [==============================] - 2s 5ms/step - loss: 0.4641 - accuracy: 0.8359\n",
            "Epoch 38/50\n",
            "428/428 [==============================] - 3s 6ms/step - loss: 0.4621 - accuracy: 0.8351\n",
            "Epoch 39/50\n",
            "428/428 [==============================] - 3s 7ms/step - loss: 0.4643 - accuracy: 0.8328\n",
            "Epoch 40/50\n",
            "428/428 [==============================] - 2s 5ms/step - loss: 0.4554 - accuracy: 0.8366\n",
            "Epoch 41/50\n",
            "428/428 [==============================] - 2s 5ms/step - loss: 0.4529 - accuracy: 0.8355\n",
            "Epoch 42/50\n",
            "428/428 [==============================] - 2s 5ms/step - loss: 0.4620 - accuracy: 0.8357\n",
            "Epoch 43/50\n",
            "428/428 [==============================] - 2s 5ms/step - loss: 0.4497 - accuracy: 0.8378\n",
            "Epoch 44/50\n",
            "428/428 [==============================] - 2s 5ms/step - loss: 0.4369 - accuracy: 0.8414\n",
            "Epoch 45/50\n",
            "428/428 [==============================] - 2s 5ms/step - loss: 0.4417 - accuracy: 0.8394\n",
            "Epoch 46/50\n",
            "428/428 [==============================] - 2s 5ms/step - loss: 0.4413 - accuracy: 0.8397\n",
            "Epoch 47/50\n",
            "428/428 [==============================] - 2s 5ms/step - loss: 0.4379 - accuracy: 0.8444\n",
            "Epoch 48/50\n",
            "428/428 [==============================] - 2s 5ms/step - loss: 0.4231 - accuracy: 0.8449\n",
            "Epoch 49/50\n",
            "428/428 [==============================] - 2s 5ms/step - loss: 0.4245 - accuracy: 0.8464\n",
            "Epoch 50/50\n",
            "428/428 [==============================] - 2s 5ms/step - loss: 0.4255 - accuracy: 0.8478\n"
          ]
        },
        {
          "output_type": "execute_result",
          "data": {
            "text/plain": [
              "<keras.callbacks.History at 0x7f954cfb6250>"
            ]
          },
          "metadata": {},
          "execution_count": 27
        }
      ]
    },
    {
      "cell_type": "code",
      "execution_count": null,
      "metadata": {
        "id": "y5D6Ev59A0Te",
        "colab": {
          "base_uri": "https://localhost:8080/"
        },
        "outputId": "cd1b175d-9233-4ede-97fb-6c507c4f32d2"
      },
      "outputs": [
        {
          "output_type": "stream",
          "name": "stdout",
          "text": [
            "Using downloaded and verified file: /root/.medmnist/bloodmnist.npz\n"
          ]
        }
      ],
      "source": [
        "# obtaining the test dataset\n",
        "test_dataset = DataClass(\n",
        "    split='test', transform=data_transform, download=True)\n",
        "\n",
        "x_test = np.reshape(test_dataset.imgs, (-1, NUMFEATURES)) / 255\n",
        "y_test = test_dataset.labels"
      ]
    },
    {
      "cell_type": "markdown",
      "metadata": {
        "id": "nWBdUsc9W2Do"
      },
      "source": [
        "#Results"
      ]
    },
    {
      "cell_type": "code",
      "execution_count": null,
      "metadata": {
        "id": "UnEXmVO-XBRm",
        "colab": {
          "base_uri": "https://localhost:8080/"
        },
        "outputId": "55937423-12bd-48df-9993-e2f6521a4e96"
      },
      "outputs": [
        {
          "output_type": "stream",
          "name": "stdout",
          "text": [
            "107/107 [==============================] - 0s 3ms/step - loss: 0.5194 - accuracy: 0.8185\n",
            "[0.5193886756896973, 0.8184741139411926]\n",
            "['loss', 'accuracy']\n"
          ]
        }
      ],
      "source": [
        "# metrics\n",
        "print(best_model.evaluate(x_test, y_test))\n",
        "print(best_model.metrics_names)"
      ]
    },
    {
      "cell_type": "code",
      "execution_count": null,
      "metadata": {
        "id": "9vmuNcXmW3Zj",
        "colab": {
          "base_uri": "https://localhost:8080/",
          "height": 372
        },
        "outputId": "f2ea56fa-aeed-496b-a534-11979a3339ef"
      },
      "outputs": [
        {
          "output_type": "stream",
          "name": "stdout",
          "text": [
            "\r  1/107 [..............................] - ETA: 11s"
          ]
        },
        {
          "output_type": "stream",
          "name": "stderr",
          "text": [
            "/usr/local/lib/python3.7/dist-packages/sklearn/utils/deprecation.py:87: FutureWarning: Function plot_confusion_matrix is deprecated; Function `plot_confusion_matrix` is deprecated in 1.0 and will be removed in 1.2. Use one of the class methods: ConfusionMatrixDisplay.from_predictions or ConfusionMatrixDisplay.from_estimator.\n",
            "  warnings.warn(msg, category=FutureWarning)\n"
          ]
        },
        {
          "output_type": "stream",
          "name": "stdout",
          "text": [
            "107/107 [==============================] - 0s 2ms/step\n"
          ]
        },
        {
          "output_type": "execute_result",
          "data": {
            "text/plain": [
              "<sklearn.metrics._plot.confusion_matrix.ConfusionMatrixDisplay at 0x7f954ce4c990>"
            ]
          },
          "metadata": {},
          "execution_count": 30
        },
        {
          "output_type": "display_data",
          "data": {
            "text/plain": [
              "<Figure size 432x288 with 2 Axes>"
            ],
            "image/png": "[encoded data removed]"
          },
          "metadata": {
            "needs_background": "light"
          }
        }
      ],
      "source": [
        "from sklearn.metrics import plot_confusion_matrix\n",
        "\n",
        "# confusion matrix\n",
        "class estimator:\n",
        "  _estimator_type = ''\n",
        "  classes_=[]\n",
        "  def __init__(self, model, classes):\n",
        "    self.model = model\n",
        "    self._estimator_type = 'classifier'\n",
        "    self.classes_ = classes\n",
        "  def predict(self, X):\n",
        "    y_prob= self.model.predict(X)\n",
        "    y_pred = y_prob.argmax(axis=1)\n",
        "    return y_pred\n",
        "\n",
        "labels=y_test\n",
        "classifier = estimator(best_model, classes=labels)\n",
        "plot_confusion_matrix(estimator=classifier, X=x_test, y_true=y_test)"
      ]
    },
    {
      "cell_type": "code",
      "source": [],
      "metadata": {
        "id": "U0Zax4d2OVfp"
      },
      "execution_count": null,
      "outputs": []
    }
  ],
  "metadata": {
    "colab": {
      "provenance": []
    },
    "kernelspec": {
      "display_name": "Python 3",
      "name": "python3"
    },
    "widgets": {
      "application/vnd.jupyter.widget-state+json": {
        "ce1ced0be62045a18a5c8008dab4c271": {
          "model_module": "@jupyter-widgets/controls",
          "model_name": "HBoxModel",
          "model_module_version": "1.5.0",
          "state": {
            "_dom_classes": [],
            "_model_module": "@jupyter-widgets/controls",
            "_model_module_version": "1.5.0",
            "_model_name": "HBoxModel",
            "_view_count": null,
            "_view_module": "@jupyter-widgets/controls",
            "_view_module_version": "1.5.0",
            "_view_name": "HBoxView",
            "box_style": "",
            "children": [
              "IPY_MODEL_59aa2e6e65854e5da2bf3bc08be02874",
              "IPY_MODEL_2d9ceb25b8f34d27b957857392a9ffc8",
              "IPY_MODEL_80507ba7f2534e278eac35483ef81325"
            ],
            "layout": "IPY_MODEL_4e63133bb231492ba42ee453e6fd7120"
          }
        },
        "59aa2e6e65854e5da2bf3bc08be02874": {
          "model_module": "@jupyter-widgets/controls",
          "model_name": "HTMLModel",
          "model_module_version": "1.5.0",
          "state": {
            "_dom_classes": [],
            "_model_module": "@jupyter-widgets/controls",
            "_model_module_version": "1.5.0",
            "_model_name": "HTMLModel",
            "_view_count": null,
            "_view_module": "@jupyter-widgets/controls",
            "_view_module_version": "1.5.0",
            "_view_name": "HTMLView",
            "description": "",
            "description_tooltip": null,
            "layout": "IPY_MODEL_11471ab1a6624d8fa2cc3c79a6b06122",
            "placeholder": "​",
            "style": "IPY_MODEL_57473098050b4595b9f453b41f923df3",
            "value": "100%"
          }
        },
        "2d9ceb25b8f34d27b957857392a9ffc8": {
          "model_module": "@jupyter-widgets/controls",
          "model_name": "FloatProgressModel",
          "model_module_version": "1.5.0",
          "state": {
            "_dom_classes": [],
            "_model_module": "@jupyter-widgets/controls",
            "_model_module_version": "1.5.0",
            "_model_name": "FloatProgressModel",
            "_view_count": null,
            "_view_module": "@jupyter-widgets/controls",
            "_view_module_version": "1.5.0",
            "_view_name": "ProgressView",
            "bar_style": "success",
            "description": "",
            "description_tooltip": null,
            "layout": "IPY_MODEL_f6b4940f439741bcb7f07a52cf5fa6fa",
            "max": 35461855,
            "min": 0,
            "orientation": "horizontal",
            "style": "IPY_MODEL_9586e1dafe614ceaa2ddcabc5e58d245",
            "value": 35461855
          }
        },
        "80507ba7f2534e278eac35483ef81325": {
          "model_module": "@jupyter-widgets/controls",
          "model_name": "HTMLModel",
          "model_module_version": "1.5.0",
          "state": {
            "_dom_classes": [],
            "_model_module": "@jupyter-widgets/controls",
            "_model_module_version": "1.5.0",
            "_model_name": "HTMLModel",
            "_view_count": null,
            "_view_module": "@jupyter-widgets/controls",
            "_view_module_version": "1.5.0",
            "_view_name": "HTMLView",
            "description": "",
            "description_tooltip": null,
            "layout": "IPY_MODEL_0c02e60677fc4c92812ebe964ea7ab3b",
            "placeholder": "​",
            "style": "IPY_MODEL_c6daa6c329cd48b49d647e5763c7be3a",
            "value": " 35461855/35461855 [00:02&lt;00:00, 21378199.10it/s]"
          }
        },
        "4e63133bb231492ba42ee453e6fd7120": {
          "model_module": "@jupyter-widgets/base",
          "model_name": "LayoutModel",
          "model_module_version": "1.2.0",
          "state": {
            "_model_module": "@jupyter-widgets/base",
            "_model_module_version": "1.2.0",
            "_model_name": "LayoutModel",
            "_view_count": null,
            "_view_module": "@jupyter-widgets/base",
            "_view_module_version": "1.2.0",
            "_view_name": "LayoutView",
            "align_content": null,
            "align_items": null,
            "align_self": null,
            "border": null,
            "bottom": null,
            "display": null,
            "flex": null,
            "flex_flow": null,
            "grid_area": null,
            "grid_auto_columns": null,
            "grid_auto_flow": null,
            "grid_auto_rows": null,
            "grid_column": null,
            "grid_gap": null,
            "grid_row": null,
            "grid_template_areas": null,
            "grid_template_columns": null,
            "grid_template_rows": null,
            "height": null,
            "justify_content": null,
            "justify_items": null,
            "left": null,
            "margin": null,
            "max_height": null,
            "max_width": null,
            "min_height": null,
            "min_width": null,
            "object_fit": null,
            "object_position": null,
            "order": null,
            "overflow": null,
            "overflow_x": null,
            "overflow_y": null,
            "padding": null,
            "right": null,
            "top": null,
            "visibility": null,
            "width": null
          }
        },
        "11471ab1a6624d8fa2cc3c79a6b06122": {
          "model_module": "@jupyter-widgets/base",
          "model_name": "LayoutModel",
          "model_module_version": "1.2.0",
          "state": {
            "_model_module": "@jupyter-widgets/base",
            "_model_module_version": "1.2.0",
            "_model_name": "LayoutModel",
            "_view_count": null,
            "_view_module": "@jupyter-widgets/base",
            "_view_module_version": "1.2.0",
            "_view_name": "LayoutView",
            "align_content": null,
            "align_items": null,
            "align_self": null,
            "border": null,
            "bottom": null,
            "display": null,
            "flex": null,
            "flex_flow": null,
            "grid_area": null,
            "grid_auto_columns": null,
            "grid_auto_flow": null,
            "grid_auto_rows": null,
            "grid_column": null,
            "grid_gap": null,
            "grid_row": null,
            "grid_template_areas": null,
            "grid_template_columns": null,
            "grid_template_rows": null,
            "height": null,
            "justify_content": null,
            "justify_items": null,
            "left": null,
            "margin": null,
            "max_height": null,
            "max_width": null,
            "min_height": null,
            "min_width": null,
            "object_fit": null,
            "object_position": null,
            "order": null,
            "overflow": null,
            "overflow_x": null,
            "overflow_y": null,
            "padding": null,
            "right": null,
            "top": null,
            "visibility": null,
            "width": null
          }
        },
        "57473098050b4595b9f453b41f923df3": {
          "model_module": "@jupyter-widgets/controls",
          "model_name": "DescriptionStyleModel",
          "model_module_version": "1.5.0",
          "state": {
            "_model_module": "@jupyter-widgets/controls",
            "_model_module_version": "1.5.0",
            "_model_name": "DescriptionStyleModel",
            "_view_count": null,
            "_view_module": "@jupyter-widgets/base",
            "_view_module_version": "1.2.0",
            "_view_name": "StyleView",
            "description_width": ""
          }
        },
        "f6b4940f439741bcb7f07a52cf5fa6fa": {
          "model_module": "@jupyter-widgets/base",
          "model_name": "LayoutModel",
          "model_module_version": "1.2.0",
          "state": {
            "_model_module": "@jupyter-widgets/base",
            "_model_module_version": "1.2.0",
            "_model_name": "LayoutModel",
            "_view_count": null,
            "_view_module": "@jupyter-widgets/base",
            "_view_module_version": "1.2.0",
            "_view_name": "LayoutView",
            "align_content": null,
            "align_items": null,
            "align_self": null,
            "border": null,
            "bottom": null,
            "display": null,
            "flex": null,
            "flex_flow": null,
            "grid_area": null,
            "grid_auto_columns": null,
            "grid_auto_flow": null,
            "grid_auto_rows": null,
            "grid_column": null,
            "grid_gap": null,
            "grid_row": null,
            "grid_template_areas": null,
            "grid_template_columns": null,
            "grid_template_rows": null,
            "height": null,
            "justify_content": null,
            "justify_items": null,
            "left": null,
            "margin": null,
            "max_height": null,
            "max_width": null,
            "min_height": null,
            "min_width": null,
            "object_fit": null,
            "object_position": null,
            "order": null,
            "overflow": null,
            "overflow_x": null,
            "overflow_y": null,
            "padding": null,
            "right": null,
            "top": null,
            "visibility": null,
            "width": null
          }
        },
        "9586e1dafe614ceaa2ddcabc5e58d245": {
          "model_module": "@jupyter-widgets/controls",
          "model_name": "ProgressStyleModel",
          "model_module_version": "1.5.0",
          "state": {
            "_model_module": "@jupyter-widgets/controls",
            "_model_module_version": "1.5.0",
            "_model_name": "ProgressStyleModel",
            "_view_count": null,
            "_view_module": "@jupyter-widgets/base",
            "_view_module_version": "1.2.0",
            "_view_name": "StyleView",
            "bar_color": null,
            "description_width": ""
          }
        },
        "0c02e60677fc4c92812ebe964ea7ab3b": {
          "model_module": "@jupyter-widgets/base",
          "model_name": "LayoutModel",
          "model_module_version": "1.2.0",
          "state": {
            "_model_module": "@jupyter-widgets/base",
            "_model_module_version": "1.2.0",
            "_model_name": "LayoutModel",
            "_view_count": null,
            "_view_module": "@jupyter-widgets/base",
            "_view_module_version": "1.2.0",
            "_view_name": "LayoutView",
            "align_content": null,
            "align_items": null,
            "align_self": null,
            "border": null,
            "bottom": null,
            "display": null,
            "flex": null,
            "flex_flow": null,
            "grid_area": null,
            "grid_auto_columns": null,
            "grid_auto_flow": null,
            "grid_auto_rows": null,
            "grid_column": null,
            "grid_gap": null,
            "grid_row": null,
            "grid_template_areas": null,
            "grid_template_columns": null,
            "grid_template_rows": null,
            "height": null,
            "justify_content": null,
            "justify_items": null,
            "left": null,
            "margin": null,
            "max_height": null,
            "max_width": null,
            "min_height": null,
            "min_width": null,
            "object_fit": null,
            "object_position": null,
            "order": null,
            "overflow": null,
            "overflow_x": null,
            "overflow_y": null,
            "padding": null,
            "right": null,
            "top": null,
            "visibility": null,
            "width": null
          }
        },
        "c6daa6c329cd48b49d647e5763c7be3a": {
          "model_module": "@jupyter-widgets/controls",
          "model_name": "DescriptionStyleModel",
          "model_module_version": "1.5.0",
          "state": {
            "_model_module": "@jupyter-widgets/controls",
            "_model_module_version": "1.5.0",
            "_model_name": "DescriptionStyleModel",
            "_view_count": null,
            "_view_module": "@jupyter-widgets/base",
            "_view_module_version": "1.2.0",
            "_view_name": "StyleView",
            "description_width": ""
          }
        }
      }
    },
    "gpuClass": "standard",
    "accelerator": "GPU"
  },
  "nbformat": 4,
  "nbformat_minor": 0
}