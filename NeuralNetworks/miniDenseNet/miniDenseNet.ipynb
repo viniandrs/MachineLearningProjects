{
  "cells": [
    {
      "cell_type": "markdown",
      "metadata": {
        "id": "eWwJhIpTBy__"
      },
      "source": [
        "# Importing libraries"
      ]
    },
    {
      "cell_type": "code",
      "execution_count": null,
      "metadata": {
        "id": "dFqxhNIsB0T1",
        "colab": {
          "base_uri": "https://localhost:8080/"
        },
        "outputId": "fb6ed52a-148f-4719-e527-350d6e069c54"
      },
      "outputs": [
        {
          "output_type": "stream",
          "name": "stdout",
          "text": [
            "\u001b[?25l\r\u001b[K     |██▍                             | 10 kB 36.2 MB/s eta 0:00:01\r\u001b[K     |████▉                           | 20 kB 39.5 MB/s eta 0:00:01\r\u001b[K     |███████▎                        | 30 kB 44.0 MB/s eta 0:00:01\r\u001b[K     |█████████▋                      | 40 kB 46.5 MB/s eta 0:00:01\r\u001b[K     |████████████                    | 51 kB 48.7 MB/s eta 0:00:01\r\u001b[K     |██████████████▌                 | 61 kB 50.5 MB/s eta 0:00:01\r\u001b[K     |█████████████████               | 71 kB 52.0 MB/s eta 0:00:01\r\u001b[K     |███████████████████▎            | 81 kB 53.3 MB/s eta 0:00:01\r\u001b[K     |█████████████████████▊          | 92 kB 43.3 MB/s eta 0:00:01\r\u001b[K     |████████████████████████▏       | 102 kB 45.0 MB/s eta 0:00:01\r\u001b[K     |██████████████████████████▋     | 112 kB 45.0 MB/s eta 0:00:01\r\u001b[K     |█████████████████████████████   | 122 kB 45.0 MB/s eta 0:00:01\r\u001b[K     |███████████████████████████████▍| 133 kB 45.0 MB/s eta 0:00:01\r\u001b[K     |████████████████████████████████| 135 kB 45.0 MB/s \n",
            "\u001b[K     |████████████████████████████████| 87 kB 6.5 MB/s \n",
            "\u001b[K     |████████████████████████████████| 1.6 MB 60.0 MB/s \n",
            "\u001b[?25h  Building wheel for fire (setup.py) ... \u001b[?25l\u001b[?25hdone\n"
          ]
        }
      ],
      "source": [
        "! pip install medmnist keras_tuner -q"
      ]
    },
    {
      "cell_type": "markdown",
      "metadata": {
        "id": "-I1mXcSXB5KL"
      },
      "source": [
        "# Setup"
      ]
    },
    {
      "cell_type": "code",
      "execution_count": null,
      "metadata": {
        "id": "BrqAmVEfB9tH",
        "colab": {
          "base_uri": "https://localhost:8080/",
          "height": 104,
          "referenced_widgets": [
            "5119f16655be4ecfaeb2feaaa056051a",
            "a633b5a57cbf4c16a3e134bcddfa06c6",
            "b8bb6bd7c56b4308b2cb6bcbf3c46fce",
            "d5d5c5ba52ce43e6a3289f02863ee353",
            "f1e7d4f100be4d21a5b45e2403f4da95",
            "7477157f9b70455dac63e713005dae22",
            "805b5b470fc740d6916d5710a047470b",
            "eca6662a112f484ead8e918d71a15ea3",
            "010477c3502b41abb054e01abb414651",
            "250dc37cb59543a3ab19b6717aed6880",
            "2b904adae3d142209d270264244ac022"
          ]
        },
        "outputId": "fb9e8990-93d2-4fd0-bc43-e5639e03fc49"
      },
      "outputs": [
        {
          "output_type": "stream",
          "name": "stdout",
          "text": [
            "Downloading https://zenodo.org/record/6496656/files/bloodmnist.npz?download=1 to /root/.medmnist/bloodmnist.npz\n"
          ]
        },
        {
          "output_type": "display_data",
          "data": {
            "text/plain": [
              "  0%|          | 0/35461855 [00:00<?, ?it/s]"
            ],
            "application/vnd.jupyter.widget-view+json": {
              "version_major": 2,
              "version_minor": 0,
              "model_id": "5119f16655be4ecfaeb2feaaa056051a"
            }
          },
          "metadata": {}
        },
        {
          "output_type": "stream",
          "name": "stdout",
          "text": [
            "Using downloaded and verified file: /root/.medmnist/bloodmnist.npz\n",
            "shape of x_train: (11959, 28, 28, 3); x_val: (1712, 28, 28, 3)\n"
          ]
        }
      ],
      "source": [
        "from sklearn.model_selection import KFold\n",
        "\n",
        "import tensorflow as tf\n",
        "import keras_tuner as kt\n",
        "\n",
        "import medmnist\n",
        "from medmnist import INFO\n",
        "import torchvision.transforms as transforms\n",
        "\n",
        "import numpy as np\n",
        "import pandas as pd\n",
        "import matplotlib.pyplot as plt\n",
        "\n",
        "NUMFEATURES = 28 * 28 * 3 # = 2352\n",
        "NUMCLASSES = 8\n",
        "\n",
        "# importing  BloodMNIST\n",
        "info = INFO['bloodmnist']\n",
        "n_channels = info['n_channels']\n",
        "n_classes = len(info['label'])\n",
        "\n",
        "DataClass = getattr(medmnist, info['python_class'])\n",
        "\n",
        "data_transform = transforms.Compose([\n",
        "    transforms.ToTensor()\n",
        "])\n",
        "\n",
        "# raw data\n",
        "train_dataset = DataClass(\n",
        "    split='train', transform=data_transform, download=True)\n",
        "val_dataset = DataClass(\n",
        "    split='val', transform=data_transform, download=True)\n",
        "\n",
        "# preprocessing data\n",
        "x_train = train_dataset.imgs / 255\n",
        "y_train = train_dataset.labels\n",
        "\n",
        "x_val = val_dataset.imgs / 255\n",
        "y_val = val_dataset.labels\n",
        "\n",
        "#training data\n",
        "x_all = np.concatenate((x_train, x_val))\n",
        "y_all = np.concatenate((y_train, y_val))\n",
        "\n",
        "print(f'shape of x_train: {x_train.shape}; x_val: {x_val.shape}')"
      ]
    },
    {
      "cell_type": "markdown",
      "metadata": {
        "id": "5pq8VhkQCTNH"
      },
      "source": [
        "# Building the mini DenseNet"
      ]
    },
    {
      "cell_type": "code",
      "source": [
        "def densenet(input_shape, n_classes, filters=16, training=None):\n",
        "    \n",
        "    #batch norm + relu + conv\n",
        "    def bn_rl_conv(x, filters, kernel=1, strides=1):\n",
        "        x = tf.keras.layers.BatchNormalization()(x)\n",
        "        x = tf.keras.layers.ReLU()(x)\n",
        "        x = tf.keras.layers.Conv2D(filters, kernel, strides=strides,padding = 'same')(x)\n",
        "        return x\n",
        "    \n",
        "    def dense_block(x, repetition):\n",
        "        for _ in range(repetition):\n",
        "            y = bn_rl_conv(x, 4*filters) # In dense block, each of the 1x1 convolutions has 4 times the number of filters\n",
        "            y = bn_rl_conv(y, filters, 3)\n",
        "            x = tf.keras.layers.concatenate([y,x])\n",
        "        return x\n",
        "        \n",
        "    def transition_layer(x):\n",
        "        channels = tf.keras.backend.int_shape(x)[-1]\n",
        "        x = bn_rl_conv(x, channels//2) #1x1 conv halving the number of channels\n",
        "        x = tf.keras.layers.AvgPool2D(2, strides=2, padding='same')(x)\n",
        "        return x\n",
        "    \n",
        "    #first layer\n",
        "    input = tf.keras.Input(input_shape)\n",
        "    x = tf.keras.layers.Dropout(rate=0.0)(input)\n",
        "    x = tf.keras.layers.Conv2D(filters=32, kernel_size=7, strides=2, padding='same')(x)\n",
        "    x = tf.keras.layers.MaxPool2D(pool_size=3, strides=2, padding='same')(x)\n",
        "    \n",
        "    for repetition in [6,12,8]:\n",
        "        d = dense_block(x, repetition)\n",
        "        x = transition_layer(d)\n",
        "\n",
        "    x = tf.keras.layers.GlobalAveragePooling2D()(d)\n",
        "    output = tf.keras.layers.Dense(NUMCLASSES, activation='softmax')(x)\n",
        "    \n",
        "    model = tf.keras.Model(input, output)\n",
        "    return model\n",
        "\n",
        "\n",
        "input_shape = (28, 28, 3)\n",
        "model = densenet(input_shape, NUMCLASSES)\n",
        "#model.summary()"
      ],
      "metadata": {
        "id": "ETsDFk9unSBk"
      },
      "execution_count": null,
      "outputs": []
    },
    {
      "cell_type": "code",
      "source": [
        "# fitting the model\n",
        "model.compile(optimizer='adam',\n",
        "              loss=\"sparse_categorical_crossentropy\",\n",
        "              metrics=['accuracy'])\n",
        "model.fit(x=x_all,\n",
        "          y=y_all,\n",
        "          batch_size=32,\n",
        "          epochs=30,)"
      ],
      "metadata": {
        "colab": {
          "base_uri": "https://localhost:8080/"
        },
        "id": "DgSh1BXywK4i",
        "outputId": "59d642a1-5334-4b28-c9a4-1ed5cf534fb2"
      },
      "execution_count": null,
      "outputs": [
        {
          "output_type": "stream",
          "name": "stdout",
          "text": [
            "Epoch 1/30\n",
            "428/428 [==============================] - 31s 29ms/step - loss: 0.6095 - accuracy: 0.7785\n",
            "Epoch 2/30\n",
            "428/428 [==============================] - 11s 26ms/step - loss: 0.3890 - accuracy: 0.8566\n",
            "Epoch 3/30\n",
            "428/428 [==============================] - 11s 27ms/step - loss: 0.3207 - accuracy: 0.8792\n",
            "Epoch 4/30\n",
            "428/428 [==============================] - 11s 27ms/step - loss: 0.2904 - accuracy: 0.8939\n",
            "Epoch 5/30\n",
            "428/428 [==============================] - 12s 27ms/step - loss: 0.2492 - accuracy: 0.9104\n",
            "Epoch 6/30\n",
            "428/428 [==============================] - 12s 29ms/step - loss: 0.2352 - accuracy: 0.9140\n",
            "Epoch 7/30\n",
            "428/428 [==============================] - 11s 26ms/step - loss: 0.2038 - accuracy: 0.9278\n",
            "Epoch 8/30\n",
            "428/428 [==============================] - 11s 26ms/step - loss: 0.1910 - accuracy: 0.9308\n",
            "Epoch 9/30\n",
            "428/428 [==============================] - 11s 27ms/step - loss: 0.1783 - accuracy: 0.9353\n",
            "Epoch 10/30\n",
            "428/428 [==============================] - 11s 26ms/step - loss: 0.1645 - accuracy: 0.9398\n",
            "Epoch 11/30\n",
            "428/428 [==============================] - 11s 27ms/step - loss: 0.1514 - accuracy: 0.9448\n",
            "Epoch 12/30\n",
            "428/428 [==============================] - 12s 27ms/step - loss: 0.1367 - accuracy: 0.9527\n",
            "Epoch 13/30\n",
            "428/428 [==============================] - 12s 27ms/step - loss: 0.1202 - accuracy: 0.9570\n",
            "Epoch 14/30\n",
            "428/428 [==============================] - 12s 28ms/step - loss: 0.1264 - accuracy: 0.9544\n",
            "Epoch 15/30\n",
            "428/428 [==============================] - 12s 27ms/step - loss: 0.1078 - accuracy: 0.9606\n",
            "Epoch 16/30\n",
            "428/428 [==============================] - 12s 27ms/step - loss: 0.0950 - accuracy: 0.9651\n",
            "Epoch 17/30\n",
            "428/428 [==============================] - 12s 27ms/step - loss: 0.0895 - accuracy: 0.9683\n",
            "Epoch 18/30\n",
            "428/428 [==============================] - 11s 27ms/step - loss: 0.1004 - accuracy: 0.9642\n",
            "Epoch 19/30\n",
            "428/428 [==============================] - 11s 26ms/step - loss: 0.0803 - accuracy: 0.9720\n",
            "Epoch 20/30\n",
            "428/428 [==============================] - 11s 26ms/step - loss: 0.0744 - accuracy: 0.9724\n",
            "Epoch 21/30\n",
            "428/428 [==============================] - 11s 27ms/step - loss: 0.0787 - accuracy: 0.9706\n",
            "Epoch 22/30\n",
            "428/428 [==============================] - 11s 27ms/step - loss: 0.0662 - accuracy: 0.9759\n",
            "Epoch 23/30\n",
            "428/428 [==============================] - 11s 27ms/step - loss: 0.0602 - accuracy: 0.9789\n",
            "Epoch 24/30\n",
            "428/428 [==============================] - 11s 27ms/step - loss: 0.0773 - accuracy: 0.9731\n",
            "Epoch 25/30\n",
            "428/428 [==============================] - 12s 27ms/step - loss: 0.0534 - accuracy: 0.9799\n",
            "Epoch 26/30\n",
            "428/428 [==============================] - 12s 27ms/step - loss: 0.0496 - accuracy: 0.9822\n",
            "Epoch 27/30\n",
            "428/428 [==============================] - 12s 27ms/step - loss: 0.0511 - accuracy: 0.9826\n",
            "Epoch 28/30\n",
            "428/428 [==============================] - 12s 27ms/step - loss: 0.0725 - accuracy: 0.9761\n",
            "Epoch 29/30\n",
            "428/428 [==============================] - 11s 26ms/step - loss: 0.0537 - accuracy: 0.9816\n",
            "Epoch 30/30\n",
            "428/428 [==============================] - 11s 26ms/step - loss: 0.0411 - accuracy: 0.9860\n"
          ]
        },
        {
          "output_type": "execute_result",
          "data": {
            "text/plain": [
              "<keras.callbacks.History at 0x7efd202d7f10>"
            ]
          },
          "metadata": {},
          "execution_count": 4
        }
      ]
    },
    {
      "cell_type": "markdown",
      "metadata": {
        "id": "8WJBRaiGJ_So"
      },
      "source": [
        "# Testing the model"
      ]
    },
    {
      "cell_type": "code",
      "execution_count": null,
      "metadata": {
        "id": "7RTKu98Q7oJZ",
        "colab": {
          "base_uri": "https://localhost:8080/"
        },
        "outputId": "2f0c5140-cc81-464f-c3c8-410b3e226fdf"
      },
      "outputs": [
        {
          "output_type": "stream",
          "name": "stdout",
          "text": [
            "Using downloaded and verified file: /root/.medmnist/bloodmnist.npz\n",
            "(3421, 28, 28, 3)\n",
            "(3421, 1)\n"
          ]
        }
      ],
      "source": [
        "# obtaining the test dataset\n",
        "test_dataset = DataClass(\n",
        "    split='test', transform=data_transform, download=True)\n",
        "\n",
        "x_test = test_dataset.imgs / 255\n",
        "y_test = test_dataset.labels\n",
        "\n",
        "print(x_test.shape)\n",
        "print(y_test.shape)"
      ]
    },
    {
      "cell_type": "markdown",
      "metadata": {
        "id": "nWBdUsc9W2Do"
      },
      "source": [
        "#Results"
      ]
    },
    {
      "cell_type": "code",
      "execution_count": null,
      "metadata": {
        "id": "UnEXmVO-XBRm",
        "colab": {
          "base_uri": "https://localhost:8080/"
        },
        "outputId": "d8ac5b65-be1c-4ae7-9f2f-6ed734c8fb01"
      },
      "outputs": [
        {
          "output_type": "stream",
          "name": "stdout",
          "text": [
            "['loss', 'accuracy']\n",
            "107/107 [==============================] - 2s 12ms/step - loss: 0.6973 - accuracy: 0.8398\n",
            "[0.6973111033439636, 0.8398129343986511]\n"
          ]
        }
      ],
      "source": [
        "# metrics\n",
        "print(model.metrics_names)\n",
        "print(model.evaluate(x_test, y_test))"
      ]
    },
    {
      "cell_type": "code",
      "execution_count": null,
      "metadata": {
        "id": "9vmuNcXmW3Zj",
        "colab": {
          "base_uri": "https://localhost:8080/",
          "height": 372
        },
        "outputId": "b76e5f77-8faf-45f1-83ef-624aa33fe3b6"
      },
      "outputs": [
        {
          "output_type": "stream",
          "name": "stderr",
          "text": [
            "/usr/local/lib/python3.7/dist-packages/sklearn/utils/deprecation.py:87: FutureWarning: Function plot_confusion_matrix is deprecated; Function `plot_confusion_matrix` is deprecated in 1.0 and will be removed in 1.2. Use one of the class methods: ConfusionMatrixDisplay.from_predictions or ConfusionMatrixDisplay.from_estimator.\n",
            "  warnings.warn(msg, category=FutureWarning)\n"
          ]
        },
        {
          "output_type": "stream",
          "name": "stdout",
          "text": [
            "107/107 [==============================] - 2s 8ms/step\n"
          ]
        },
        {
          "output_type": "execute_result",
          "data": {
            "text/plain": [
              "<sklearn.metrics._plot.confusion_matrix.ConfusionMatrixDisplay at 0x7efccd5e0a50>"
            ]
          },
          "metadata": {},
          "execution_count": 7
        },
        {
          "output_type": "display_data",
          "data": {
            "text/plain": [
              "<Figure size 432x288 with 2 Axes>"
            ],
            "image/png": "[encoded data removed]"
          },
          "metadata": {
            "needs_background": "light"
          }
        }
      ],
      "source": [
        "from sklearn.metrics import plot_confusion_matrix\n",
        "\n",
        "# confusion matrix\n",
        "class estimator:\n",
        "  _estimator_type = ''\n",
        "  classes_=[]\n",
        "  def __init__(self, model, classes):\n",
        "    self.model = model\n",
        "    self._estimator_type = 'classifier'\n",
        "    self.classes_ = classes\n",
        "  def predict(self, X):\n",
        "    y_prob= self.model.predict(X)\n",
        "    y_pred = y_prob.argmax(axis=1)\n",
        "    return y_pred\n",
        "\n",
        "labels = ['basofilos', 'eosinofilos', 'eritroblastos', 'granulocitos', 'linfocitos', 'monocitos', 'neutrofilos', 'plaquetas']\n",
        "classifier = estimator(model, classes=labels)\n",
        "plot_confusion_matrix(estimator=classifier, X=x_test, y_true=y_test)"
      ]
    },
    {
      "cell_type": "markdown",
      "source": [
        "#Analysing the mistakes"
      ],
      "metadata": {
        "id": "bFc_6rN5Hawu"
      }
    },
    {
      "cell_type": "code",
      "source": [
        "# getting the predictions\n",
        "probs = model.predict(x_test)\n",
        "predictions = [np.argmax(probs[i]) for i in range(len(probs))]"
      ],
      "metadata": {
        "id": "CU9JDAQ2DzeN",
        "colab": {
          "base_uri": "https://localhost:8080/"
        },
        "outputId": "34ed8633-809d-48e1-9556-e09c3e2a4a64"
      },
      "execution_count": null,
      "outputs": [
        {
          "output_type": "stream",
          "name": "stdout",
          "text": [
            "107/107 [==============================] - 1s 8ms/step\n"
          ]
        }
      ]
    },
    {
      "cell_type": "code",
      "source": [
        "# getting mistakes\n",
        "mistakes_index = []\n",
        "incorrect_labels = []\n",
        "for i in range(len(predictions)):\n",
        "  if predictions[i] != y_test[i]:\n",
        "    incorrect_labels.append(predictions[i])\n",
        "    mistakes_index.append(i)\n",
        "\n",
        "print(f'from {len(predictions)} entries, the model misclassified {len(mistakes_index)}')"
      ],
      "metadata": {
        "colab": {
          "base_uri": "https://localhost:8080/"
        },
        "id": "QNqlFKOqBq86",
        "outputId": "7519a1be-61ff-44c0-eb4d-55f0b3632faa"
      },
      "execution_count": null,
      "outputs": [
        {
          "output_type": "stream",
          "name": "stdout",
          "text": [
            "from 3421 entries, the model misclassified 548\n"
          ]
        }
      ]
    },
    {
      "cell_type": "code",
      "source": [
        "# printing errors\n",
        "\n",
        "for index in range(15):\n",
        "  correct_index = mistakes_index[index]\n",
        "  print(f'index: {mistakes_index[index]} - misclassified as {incorrect_labels[index]}; correct label is {y_test[correct_index]}')"
      ],
      "metadata": {
        "colab": {
          "base_uri": "https://localhost:8080/"
        },
        "id": "R3V-GBn7Brof",
        "outputId": "1414da29-a7a8-4e5e-abf0-89ae43b60bc7"
      },
      "execution_count": null,
      "outputs": [
        {
          "output_type": "stream",
          "name": "stdout",
          "text": [
            "index: 9 - misclassified as 0; correct label is [1]\n",
            "index: 14 - misclassified as 3; correct label is [2]\n",
            "index: 15 - misclassified as 0; correct label is [4]\n",
            "index: 16 - misclassified as 2; correct label is [4]\n",
            "index: 19 - misclassified as 3; correct label is [4]\n",
            "index: 23 - misclassified as 0; correct label is [5]\n",
            "index: 30 - misclassified as 0; correct label is [1]\n",
            "index: 33 - misclassified as 3; correct label is [5]\n",
            "index: 35 - misclassified as 0; correct label is [6]\n",
            "index: 37 - misclassified as 3; correct label is [5]\n",
            "index: 50 - misclassified as 3; correct label is [5]\n",
            "index: 62 - misclassified as 2; correct label is [6]\n",
            "index: 69 - misclassified as 4; correct label is [2]\n",
            "index: 73 - misclassified as 0; correct label is [4]\n",
            "index: 78 - misclassified as 0; correct label is [6]\n"
          ]
        }
      ]
    },
    {
      "cell_type": "code",
      "source": [
        "plt.imshow(x_test[101], cmap=\"Greys_r\")\n",
        "print('incorrect label: 0; correct label: 3')"
      ],
      "metadata": {
        "colab": {
          "base_uri": "https://localhost:8080/",
          "height": 283
        },
        "id": "-9bx-AofEO25",
        "outputId": "06a005a0-630d-4589-9744-b64fce11866b"
      },
      "execution_count": null,
      "outputs": [
        {
          "output_type": "stream",
          "name": "stdout",
          "text": [
            "incorrect label: 0; correct label: 3\n"
          ]
        },
        {
          "output_type": "display_data",
          "data": {
            "text/plain": [
              "<Figure size 432x288 with 1 Axes>"
            ],
            "image/png": "[encoded data removed]"
          },
          "metadata": {
            "needs_background": "light"
          }
        }
      ]
    },
    {
      "cell_type": "code",
      "source": [],
      "metadata": {
        "id": "fyuImpJYIyJQ"
      },
      "execution_count": null,
      "outputs": []
    }
  ],
  "metadata": {
    "colab": {
      "provenance": []
    },
    "gpuClass": "standard",
    "kernelspec": {
      "display_name": "Python 3",
      "name": "python3"
    },
    "accelerator": "GPU",
    "widgets": {
      "application/vnd.jupyter.widget-state+json": {
        "5119f16655be4ecfaeb2feaaa056051a": {
          "model_module": "@jupyter-widgets/controls",
          "model_name": "HBoxModel",
          "model_module_version": "1.5.0",
          "state": {
            "_dom_classes": [],
            "_model_module": "@jupyter-widgets/controls",
            "_model_module_version": "1.5.0",
            "_model_name": "HBoxModel",
            "_view_count": null,
            "_view_module": "@jupyter-widgets/controls",
            "_view_module_version": "1.5.0",
            "_view_name": "HBoxView",
            "box_style": "",
            "children": [
              "IPY_MODEL_a633b5a57cbf4c16a3e134bcddfa06c6",
              "IPY_MODEL_b8bb6bd7c56b4308b2cb6bcbf3c46fce",
              "IPY_MODEL_d5d5c5ba52ce43e6a3289f02863ee353"
            ],
            "layout": "IPY_MODEL_f1e7d4f100be4d21a5b45e2403f4da95"
          }
        },
        "a633b5a57cbf4c16a3e134bcddfa06c6": {
          "model_module": "@jupyter-widgets/controls",
          "model_name": "HTMLModel",
          "model_module_version": "1.5.0",
          "state": {
            "_dom_classes": [],
            "_model_module": "@jupyter-widgets/controls",
            "_model_module_version": "1.5.0",
            "_model_name": "HTMLModel",
            "_view_count": null,
            "_view_module": "@jupyter-widgets/controls",
            "_view_module_version": "1.5.0",
            "_view_name": "HTMLView",
            "description": "",
            "description_tooltip": null,
            "layout": "IPY_MODEL_7477157f9b70455dac63e713005dae22",
            "placeholder": "​",
            "style": "IPY_MODEL_805b5b470fc740d6916d5710a047470b",
            "value": "100%"
          }
        },
        "b8bb6bd7c56b4308b2cb6bcbf3c46fce": {
          "model_module": "@jupyter-widgets/controls",
          "model_name": "FloatProgressModel",
          "model_module_version": "1.5.0",
          "state": {
            "_dom_classes": [],
            "_model_module": "@jupyter-widgets/controls",
            "_model_module_version": "1.5.0",
            "_model_name": "FloatProgressModel",
            "_view_count": null,
            "_view_module": "@jupyter-widgets/controls",
            "_view_module_version": "1.5.0",
            "_view_name": "ProgressView",
            "bar_style": "success",
            "description": "",
            "description_tooltip": null,
            "layout": "IPY_MODEL_eca6662a112f484ead8e918d71a15ea3",
            "max": 35461855,
            "min": 0,
            "orientation": "horizontal",
            "style": "IPY_MODEL_010477c3502b41abb054e01abb414651",
            "value": 35461855
          }
        },
        "d5d5c5ba52ce43e6a3289f02863ee353": {
          "model_module": "@jupyter-widgets/controls",
          "model_name": "HTMLModel",
          "model_module_version": "1.5.0",
          "state": {
            "_dom_classes": [],
            "_model_module": "@jupyter-widgets/controls",
            "_model_module_version": "1.5.0",
            "_model_name": "HTMLModel",
            "_view_count": null,
            "_view_module": "@jupyter-widgets/controls",
            "_view_module_version": "1.5.0",
            "_view_name": "HTMLView",
            "description": "",
            "description_tooltip": null,
            "layout": "IPY_MODEL_250dc37cb59543a3ab19b6717aed6880",
            "placeholder": "​",
            "style": "IPY_MODEL_2b904adae3d142209d270264244ac022",
            "value": " 35461855/35461855 [00:01&lt;00:00, 26049239.94it/s]"
          }
        },
        "f1e7d4f100be4d21a5b45e2403f4da95": {
          "model_module": "@jupyter-widgets/base",
          "model_name": "LayoutModel",
          "model_module_version": "1.2.0",
          "state": {
            "_model_module": "@jupyter-widgets/base",
            "_model_module_version": "1.2.0",
            "_model_name": "LayoutModel",
            "_view_count": null,
            "_view_module": "@jupyter-widgets/base",
            "_view_module_version": "1.2.0",
            "_view_name": "LayoutView",
            "align_content": null,
            "align_items": null,
            "align_self": null,
            "border": null,
            "bottom": null,
            "display": null,
            "flex": null,
            "flex_flow": null,
            "grid_area": null,
            "grid_auto_columns": null,
            "grid_auto_flow": null,
            "grid_auto_rows": null,
            "grid_column": null,
            "grid_gap": null,
            "grid_row": null,
            "grid_template_areas": null,
            "grid_template_columns": null,
            "grid_template_rows": null,
            "height": null,
            "justify_content": null,
            "justify_items": null,
            "left": null,
            "margin": null,
            "max_height": null,
            "max_width": null,
            "min_height": null,
            "min_width": null,
            "object_fit": null,
            "object_position": null,
            "order": null,
            "overflow": null,
            "overflow_x": null,
            "overflow_y": null,
            "padding": null,
            "right": null,
            "top": null,
            "visibility": null,
            "width": null
          }
        },
        "7477157f9b70455dac63e713005dae22": {
          "model_module": "@jupyter-widgets/base",
          "model_name": "LayoutModel",
          "model_module_version": "1.2.0",
          "state": {
            "_model_module": "@jupyter-widgets/base",
            "_model_module_version": "1.2.0",
            "_model_name": "LayoutModel",
            "_view_count": null,
            "_view_module": "@jupyter-widgets/base",
            "_view_module_version": "1.2.0",
            "_view_name": "LayoutView",
            "align_content": null,
            "align_items": null,
            "align_self": null,
            "border": null,
            "bottom": null,
            "display": null,
            "flex": null,
            "flex_flow": null,
            "grid_area": null,
            "grid_auto_columns": null,
            "grid_auto_flow": null,
            "grid_auto_rows": null,
            "grid_column": null,
            "grid_gap": null,
            "grid_row": null,
            "grid_template_areas": null,
            "grid_template_columns": null,
            "grid_template_rows": null,
            "height": null,
            "justify_content": null,
            "justify_items": null,
            "left": null,
            "margin": null,
            "max_height": null,
            "max_width": null,
            "min_height": null,
            "min_width": null,
            "object_fit": null,
            "object_position": null,
            "order": null,
            "overflow": null,
            "overflow_x": null,
            "overflow_y": null,
            "padding": null,
            "right": null,
            "top": null,
            "visibility": null,
            "width": null
          }
        },
        "805b5b470fc740d6916d5710a047470b": {
          "model_module": "@jupyter-widgets/controls",
          "model_name": "DescriptionStyleModel",
          "model_module_version": "1.5.0",
          "state": {
            "_model_module": "@jupyter-widgets/controls",
            "_model_module_version": "1.5.0",
            "_model_name": "DescriptionStyleModel",
            "_view_count": null,
            "_view_module": "@jupyter-widgets/base",
            "_view_module_version": "1.2.0",
            "_view_name": "StyleView",
            "description_width": ""
          }
        },
        "eca6662a112f484ead8e918d71a15ea3": {
          "model_module": "@jupyter-widgets/base",
          "model_name": "LayoutModel",
          "model_module_version": "1.2.0",
          "state": {
            "_model_module": "@jupyter-widgets/base",
            "_model_module_version": "1.2.0",
            "_model_name": "LayoutModel",
            "_view_count": null,
            "_view_module": "@jupyter-widgets/base",
            "_view_module_version": "1.2.0",
            "_view_name": "LayoutView",
            "align_content": null,
            "align_items": null,
            "align_self": null,
            "border": null,
            "bottom": null,
            "display": null,
            "flex": null,
            "flex_flow": null,
            "grid_area": null,
            "grid_auto_columns": null,
            "grid_auto_flow": null,
            "grid_auto_rows": null,
            "grid_column": null,
            "grid_gap": null,
            "grid_row": null,
            "grid_template_areas": null,
            "grid_template_columns": null,
            "grid_template_rows": null,
            "height": null,
            "justify_content": null,
            "justify_items": null,
            "left": null,
            "margin": null,
            "max_height": null,
            "max_width": null,
            "min_height": null,
            "min_width": null,
            "object_fit": null,
            "object_position": null,
            "order": null,
            "overflow": null,
            "overflow_x": null,
            "overflow_y": null,
            "padding": null,
            "right": null,
            "top": null,
            "visibility": null,
            "width": null
          }
        },
        "010477c3502b41abb054e01abb414651": {
          "model_module": "@jupyter-widgets/controls",
          "model_name": "ProgressStyleModel",
          "model_module_version": "1.5.0",
          "state": {
            "_model_module": "@jupyter-widgets/controls",
            "_model_module_version": "1.5.0",
            "_model_name": "ProgressStyleModel",
            "_view_count": null,
            "_view_module": "@jupyter-widgets/base",
            "_view_module_version": "1.2.0",
            "_view_name": "StyleView",
            "bar_color": null,
            "description_width": ""
          }
        },
        "250dc37cb59543a3ab19b6717aed6880": {
          "model_module": "@jupyter-widgets/base",
          "model_name": "LayoutModel",
          "model_module_version": "1.2.0",
          "state": {
            "_model_module": "@jupyter-widgets/base",
            "_model_module_version": "1.2.0",
            "_model_name": "LayoutModel",
            "_view_count": null,
            "_view_module": "@jupyter-widgets/base",
            "_view_module_version": "1.2.0",
            "_view_name": "LayoutView",
            "align_content": null,
            "align_items": null,
            "align_self": null,
            "border": null,
            "bottom": null,
            "display": null,
            "flex": null,
            "flex_flow": null,
            "grid_area": null,
            "grid_auto_columns": null,
            "grid_auto_flow": null,
            "grid_auto_rows": null,
            "grid_column": null,
            "grid_gap": null,
            "grid_row": null,
            "grid_template_areas": null,
            "grid_template_columns": null,
            "grid_template_rows": null,
            "height": null,
            "justify_content": null,
            "justify_items": null,
            "left": null,
            "margin": null,
            "max_height": null,
            "max_width": null,
            "min_height": null,
            "min_width": null,
            "object_fit": null,
            "object_position": null,
            "order": null,
            "overflow": null,
            "overflow_x": null,
            "overflow_y": null,
            "padding": null,
            "right": null,
            "top": null,
            "visibility": null,
            "width": null
          }
        },
        "2b904adae3d142209d270264244ac022": {
          "model_module": "@jupyter-widgets/controls",
          "model_name": "DescriptionStyleModel",
          "model_module_version": "1.5.0",
          "state": {
            "_model_module": "@jupyter-widgets/controls",
            "_model_module_version": "1.5.0",
            "_model_name": "DescriptionStyleModel",
            "_view_count": null,
            "_view_module": "@jupyter-widgets/base",
            "_view_module_version": "1.2.0",
            "_view_name": "StyleView",
            "description_width": ""
          }
        }
      }
    }
  },
  "nbformat": 4,
  "nbformat_minor": 0
}